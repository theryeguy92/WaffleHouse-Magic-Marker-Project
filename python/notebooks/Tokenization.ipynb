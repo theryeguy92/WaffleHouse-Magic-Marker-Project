{
 "cells": [
  {
   "metadata": {},
   "cell_type": "markdown",
   "source": "# Waffle House Formal Authentication Tokenizer Concept\n",
   "id": "398b6d58d05a7441"
  },
  {
   "metadata": {
    "ExecuteTime": {
     "end_time": "2024-11-18T17:29:21.847572Z",
     "start_time": "2024-11-18T17:29:18.920518Z"
    }
   },
   "cell_type": "code",
   "source": [
    "# Import libraries\n",
    "\n",
    "import pandas as pd\n",
    "from huggingface_hub import notebook_login\n",
    "from pprint import pprint\n",
    "from transformers import AutoTokenizer"
   ],
   "id": "initial_id",
   "outputs": [],
   "execution_count": 1
  },
  {
   "metadata": {
    "ExecuteTime": {
     "end_time": "2024-11-18T17:29:22.960305Z",
     "start_time": "2024-11-18T17:29:22.944805Z"
    }
   },
   "cell_type": "code",
   "source": [
    "# Login to hugging face\n",
    "notebook_login()"
   ],
   "id": "f7e7cd544b12cd4c",
   "outputs": [
    {
     "data": {
      "text/plain": [
       "VBox(children=(HTML(value='<center> <img\\nsrc=https://huggingface.co/front/assets/huggingface_logo-noborder.sv…"
      ],
      "application/vnd.jupyter.widget-view+json": {
       "version_major": 2,
       "version_minor": 0,
       "model_id": "be7b4cfda9ac40efb4d07b174622ede4"
      }
     },
     "metadata": {},
     "output_type": "display_data"
    }
   ],
   "execution_count": 2
  },
  {
   "metadata": {
    "ExecuteTime": {
     "end_time": "2024-11-18T17:32:18.687352Z",
     "start_time": "2024-11-18T17:32:18.596347Z"
    }
   },
   "cell_type": "code",
   "source": [
    "# Import tokenizer\n",
    "\n",
    "tokenizer = AutoTokenizer.from_pretrained('bert-base-cased')"
   ],
   "id": "e7d979fc0057ba31",
   "outputs": [],
   "execution_count": 8
  },
  {
   "metadata": {
    "ExecuteTime": {
     "end_time": "2024-11-18T17:31:57.096522Z",
     "start_time": "2024-11-18T17:31:57.094023Z"
    }
   },
   "cell_type": "code",
   "source": "",
   "id": "5fc629b9d4f982fa",
   "outputs": [],
   "execution_count": 3
  },
  {
   "metadata": {},
   "cell_type": "markdown",
   "source": "# Waffle House Formal Authentication",
   "id": "9c7f03281e61c0b8"
  },
  {
   "metadata": {
    "ExecuteTime": {
     "end_time": "2024-11-18T17:32:21.254172Z",
     "start_time": "2024-11-18T17:32:21.247174Z"
    }
   },
   "cell_type": "code",
   "source": [
    "# Define Waffle House markers and expected results (expanded with all relevant tokens)\n",
    "waffle_tokens = {\n",
    "    \"jelly_bottom\": \"scrambled_eggs\",\n",
    "    \"hashbrowns_top\": \"hashbrowns_selected\",\n",
    "    \"tomato_top\": \"tomato_selected\",\n",
    "    \"napkin_top\": \"oatmeal_selected\",\n",
    "    \"jelly_flipped\": \"wheat_toast\",\n",
    "    \"apple_jelly_bottom\": \"raisin_toast\",\n",
    "    \"extra_jelly\": \"extra_toast\",\n",
    "    \"butter_underneath\": \"dry_toast\",\n",
    "    \"mustard_under_jelly\": \"three_scrambled_eggs\",\n",
    "    \"two_jelly_stack\": \"four_scrambled_eggs\"\n",
    "}\n",
    "\n",
    "# Tokenize each marker phrase\n",
    "tokenized_markers = {k: tokenizer(v)[\"input_ids\"] for k, v in waffle_tokens.items()}\n",
    "\n",
    "\n",
    "from IPython.display import display\n",
    "display(tokenized_markers)\n"
   ],
   "id": "5db22ca776fb4ba9",
   "outputs": [
    {
     "data": {
      "text/plain": [
       "{'jelly_bottom': [101, 13988, 168, 6471, 102],\n",
       " 'hashbrowns_top': [101, 1144, 1324, 12725, 6540, 1116, 168, 2700, 102],\n",
       " 'tomato_top': [101, 26422, 168, 2700, 102],\n",
       " 'napkin_top': [101, 184, 2980, 3263, 1348, 168, 2700, 102],\n",
       " 'jelly_flipped': [101, 11773, 168, 17458, 102],\n",
       " 'apple_jelly_bottom': [101, 187, 15837, 1394, 168, 17458, 102],\n",
       " 'extra_jelly': [101, 3908, 168, 17458, 102],\n",
       " 'butter_underneath': [101, 3712, 168, 17458, 102],\n",
       " 'mustard_under_jelly': [101, 1210, 168, 13988, 168, 6471, 102],\n",
       " 'two_jelly_stack': [101, 1300, 168, 13988, 168, 6471, 102]}"
      ]
     },
     "metadata": {},
     "output_type": "display_data"
    }
   ],
   "execution_count": 9
  },
  {
   "metadata": {
    "ExecuteTime": {
     "end_time": "2024-11-18T17:32:22.308857Z",
     "start_time": "2024-11-18T17:32:22.305361Z"
    }
   },
   "cell_type": "code",
   "source": [
    "# Function to authenticate tokens\n",
    "def authenticate_user(tokens):\n",
    "    for token, expected_token in tokenized_markers.items():\n",
    "        if tokens.get(token) != expected_token:\n",
    "            return False\n",
    "    return True"
   ],
   "id": "e7b3988a1924c83d",
   "outputs": [],
   "execution_count": 10
  },
  {
   "metadata": {
    "ExecuteTime": {
     "end_time": "2024-11-18T17:32:23.577689Z",
     "start_time": "2024-11-18T17:32:23.573686Z"
    }
   },
   "cell_type": "code",
   "source": [
    "# Sample user tokens to authenticate\n",
    "user_tokens = {\n",
    "    \"jelly_bottom\": tokenizer(\"scrambled_eggs\")[\"input_ids\"],\n",
    "    \"hashbrowns_top\": tokenizer(\"hashbrowns_selected\")[\"input_ids\"]\n",
    "}\n",
    "auth_status = authenticate_user(user_tokens)\n",
    "print(\"Access Granted\" if auth_status else \"Access Denied\")\n"
   ],
   "id": "32e2b0d1319c5ef3",
   "outputs": [
    {
     "name": "stdout",
     "output_type": "stream",
     "text": [
      "Access Denied\n"
     ]
    }
   ],
   "execution_count": 11
  },
  {
   "metadata": {},
   "cell_type": "markdown",
   "source": "### Verification Functions Based on SMV Rules",
   "id": "42bdf729967b5e4f"
  },
  {
   "metadata": {
    "ExecuteTime": {
     "end_time": "2024-11-18T17:32:47.387599Z",
     "start_time": "2024-11-18T17:32:47.383607Z"
    }
   },
   "cell_type": "code",
   "source": [
    "# Rule validation functions\n",
    "def check_scrambled_eggs_rule(tokens):\n",
    "    return tokens.get(\"jelly_bottom\") == tokenized_markers[\"jelly_bottom\"]\n",
    "\n",
    "def check_grits_rule(tokens):\n",
    "    return (tokens.get(\"hashbrowns_top\") == tokenized_markers[\"hashbrowns_top\"] and \"grits\" not in tokens)\n",
    "\n",
    "def check_oatmeal_rule(tokens):\n",
    "    return tokens.get(\"napkin_top\") == tokenized_markers[\"napkin_top\"]\n",
    "\n",
    "def check_conflict_rule(tokens):\n",
    "    return not (tokens.get(\"hashbrowns_top\") and tokens.get(\"tomato_top\"))\n"
   ],
   "id": "9cc95649df39cb57",
   "outputs": [],
   "execution_count": 12
  },
  {
   "metadata": {},
   "cell_type": "markdown",
   "source": "### Order Validation Function",
   "id": "52eaed4f0166a896"
  },
  {
   "metadata": {
    "ExecuteTime": {
     "end_time": "2024-11-18T17:32:49.718069Z",
     "start_time": "2024-11-18T17:32:49.714069Z"
    }
   },
   "cell_type": "code",
   "source": [
    "def validate_order(tokens):\n",
    "    \n",
    "    rules = [\n",
    "        check_scrambled_eggs_rule(tokens),\n",
    "        check_grits_rule(tokens),\n",
    "        check_oatmeal_rule(tokens),\n",
    "        check_conflict_rule(tokens)\n",
    "    ]\n",
    "    return all(rules)\n",
    "\n"
   ],
   "id": "2db111c3d4c560ad",
   "outputs": [],
   "execution_count": 13
  },
  {
   "metadata": {
    "ExecuteTime": {
     "end_time": "2024-11-18T17:32:52.567609Z",
     "start_time": "2024-11-18T17:32:52.563611Z"
    }
   },
   "cell_type": "code",
   "source": [
    "# Validate sample order\n",
    "if validate_order(user_tokens):\n",
    "    print(\"Order Valid - Configuration matches SMV rules\")\n",
    "else:\n",
    "    print(\"Order Invalid - Conflict or Rule Violation Detected\")"
   ],
   "id": "e4579fd92160c929",
   "outputs": [
    {
     "name": "stdout",
     "output_type": "stream",
     "text": [
      "Order Invalid - Conflict or Rule Violation Detected\n"
     ]
    }
   ],
   "execution_count": 14
  },
  {
   "metadata": {},
   "cell_type": "markdown",
   "source": "### Export to SMV Format for nuXmv Verification",
   "id": "520ec82b402eaa3e"
  },
  {
   "metadata": {
    "ExecuteTime": {
     "end_time": "2024-11-04T21:30:59.458127Z",
     "start_time": "2024-11-04T21:30:59.439115Z"
    }
   },
   "cell_type": "code",
   "source": [
    "# Export function to create SMV file\n",
    "def export_to_smv(tokens, filename=\"generated_wafflehouse.smv\"):\n",
    "    with open(filename, 'w') as smv_file:\n",
    "        smv_file.write(\"MODULE main\\nVAR\\n\")\n",
    "\n",
    "        # List of all relevant variables\n",
    "        all_vars = list(waffle_tokens.keys()) + [\"scrambled_eggs\", \"grits\", \"oatmeal\", \"brown_sugar_top\"]\n",
    "        for var in all_vars:\n",
    "            smv_file.write(f\"    {var} : boolean;\\n\")\n",
    "\n",
    "        # INIT section: all variables false\n",
    "        smv_file.write(\"\\nINIT\\n    \")\n",
    "        init_conditions = \" & \".join([f\"!{var}\" for var in all_vars])\n",
    "        smv_file.write(init_conditions + \";\\n\\n\")\n",
    "\n",
    "        # TRANS section based on rules\n",
    "        smv_file.write(\"TRANS\\n\")\n",
    "        trans_conditions = [\n",
    "            \"(jelly_bottom -> scrambled_eggs)\",\n",
    "            \"(hashbrowns_top -> (scrambled_eggs & !grits))\",\n",
    "            \"(oatmeal -> (napkin_top & brown_sugar_top))\"\n",
    "        ]\n",
    "        smv_file.write(\"    \" + \" &\\n    \".join(trans_conditions) + \";\\n\\n\")\n",
    "\n",
    "        # LTL specifications\n",
    "        smv_file.write(\"-- Formal Specifications\\n\")\n",
    "        smv_file.write(\"LTLSPEC G (jelly_bottom -> scrambled_eggs);\\n\")\n",
    "        smv_file.write(\"LTLSPEC G (oatmeal -> F(napkin_top & brown_sugar_top));\\n\")\n",
    "        smv_file.write(\"LTLSPEC !(hashbrowns_top & tomato_top);\\n\")\n",
    "\n",
    "    print(f\"SMV model exported to {filename}\")"
   ],
   "id": "f60deb8b8e38b9b",
   "outputs": [],
   "execution_count": 103
  },
  {
   "metadata": {
    "ExecuteTime": {
     "end_time": "2024-11-04T21:31:17.565687Z",
     "start_time": "2024-11-04T21:31:17.549941Z"
    }
   },
   "cell_type": "code",
   "source": [
    "# Export the tokens for formal verification\n",
    "export_to_smv(user_tokens)"
   ],
   "id": "cf29c849421e26c6",
   "outputs": [],
   "execution_count": 104
  },
  {
   "metadata": {},
   "cell_type": "code",
   "outputs": [],
   "execution_count": null,
   "source": [
    "# Export function to create SMV file for LLM response validation\n",
    "def export_llm_response_to_smv(response_text, filename=\"llm_response_validation.smv\"):\n",
    "    with open(filename, 'w') as smv_file:\n",
    "        smv_file.write(\"MODULE main\\nVAR\\n\")\n",
    "\n",
    "        # Declare variables representing key elements in the response\n",
    "        smv_file.write(\"    acknowledged_order : boolean;\\n\")\n",
    "        smv_file.write(\"    included_items : boolean;\\n\")\n",
    "        smv_file.write(\"    explained_plate_markings : boolean;\\n\")\n",
    "\n",
    "        # Define initial conditions (assuming all start as FALSE)\n",
    "        smv_file.write(\"\\nINIT\\n\")\n",
    "        smv_file.write(\"    !acknowledged_order & !included_items & !explained_plate_markings;\\n\")\n",
    "\n",
    "        # TRANS section: Define transitions based on the response content\n",
    "        smv_file.write(\"\\nTRANS\\n\")\n",
    "        smv_file.write(\"    next(acknowledged_order) = response_acknowledges_order;\\n\")\n",
    "        smv_file.write(\"    next(included_items) = response_includes_items;\\n\")\n",
    "        smv_file.write(\"    next(explained_plate_markings) = response_explains_plate_markings;\\n\")\n",
    "\n",
    "        # Define properties to check (LTL specifications)\n",
    "        smv_file.write(\"\\n-- Specifications\\n\")\n",
    "        smv_file.write(\"LTLSPEC G (acknowledged_order & included_items & explained_plate_markings);\\n\")\n",
    "\n",
    "        # Define DEFINE section to set the conditions based on the response_text\n",
    "        smv_file.write(\"\\nDEFINE\\n\")\n",
    "        smv_file.write(f\"    response_acknowledges_order := {str('thank you' in response_text.lower() or 'sure' in response_text.lower()).upper()};\\n\")\n",
    "        smv_file.write(f\"    response_includes_items := {str(any(item in response_text.lower() for item in waffle_tokens.keys())).upper()};\\n\")\n",
    "        smv_file.write(f\"    response_explains_plate_markings := {str(any(marker in response_text.lower() for marker in waffle_tokens.values())).upper()};\\n\")\n",
    "\n",
    "    print(f\"SMV model for LLM response validation exported to {filename}\")\n"
   ],
   "id": "411a8edda79f14db"
  }
 ],
 "metadata": {
  "kernelspec": {
   "display_name": "Python 3",
   "language": "python",
   "name": "python3"
  },
  "language_info": {
   "codemirror_mode": {
    "name": "ipython",
    "version": 2
   },
   "file_extension": ".py",
   "mimetype": "text/x-python",
   "name": "python",
   "nbconvert_exporter": "python",
   "pygments_lexer": "ipython2",
   "version": "2.7.6"
  }
 },
 "nbformat": 4,
 "nbformat_minor": 5
}
