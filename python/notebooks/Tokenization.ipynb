{
 "cells": [
  {
   "metadata": {},
   "cell_type": "markdown",
   "source": "# Waffle House Formal Authentication Tokenizer Concept\n",
   "id": "398b6d58d05a7441"
  },
  {
   "metadata": {},
   "cell_type": "code",
   "outputs": [
    {
     "name": "stderr",
     "output_type": "stream",
     "text": [
      "None of PyTorch, TensorFlow >= 2.0, or Flax have been found. Models won't be available and only tokenizers, configuration and file/data utilities can be used.\n"
     ]
    }
   ],
   "execution_count": 1,
   "source": [
    "# Import libraries\n",
    "\n",
    "import pandas as pd\n",
    "from huggingface_hub import notebook_login\n",
    "from pprint import pprint\n",
    "from transformers import AutoTokenizer"
   ],
   "id": "initial_id"
  },
  {
   "metadata": {
    "ExecuteTime": {
     "end_time": "2024-11-04T19:45:32.965012Z",
     "start_time": "2024-11-04T19:45:32.945014Z"
    }
   },
   "cell_type": "code",
   "source": [
    "# Login to hugging face\n",
    "notebook_login()"
   ],
   "id": "f7e7cd544b12cd4c",
   "outputs": [
    {
     "data": {
      "text/plain": [
       "VBox(children=(HTML(value='<center> <img\\nsrc=https://huggingface.co/front/assets/huggingface_logo-noborder.sv…"
      ],
      "application/vnd.jupyter.widget-view+json": {
       "version_major": 2,
       "version_minor": 0,
       "model_id": "1c8cb752d59745838c1e5bc24b2f8709"
      }
     },
     "metadata": {},
     "output_type": "display_data"
    }
   ],
   "execution_count": 2
  },
  {
   "metadata": {
    "ExecuteTime": {
     "end_time": "2024-11-04T19:51:53.254948Z",
     "start_time": "2024-11-04T19:51:52.528082Z"
    }
   },
   "cell_type": "code",
   "source": [
    "# Import tokenizer\n",
    "\n",
    "tokenizer = AutoTokenizer.from_pretrained('bert-base-cased')"
   ],
   "id": "e7d979fc0057ba31",
   "outputs": [
    {
     "data": {
      "text/plain": [
       "tokenizer_config.json:   0%|          | 0.00/49.0 [00:00<?, ?B/s]"
      ],
      "application/vnd.jupyter.widget-view+json": {
       "version_major": 2,
       "version_minor": 0,
       "model_id": "0d4eeed0312a405cae862131ed328fcd"
      }
     },
     "metadata": {},
     "output_type": "display_data"
    },
    {
     "name": "stderr",
     "output_type": "stream",
     "text": [
      "C:\\Users\\Ryan Levey\\OneDrive\\Bureaublad\\vandy_cs\\CS 6315\\final_project\\waffle_house_project\\venv\\lib\\site-packages\\huggingface_hub\\file_download.py:139: UserWarning: `huggingface_hub` cache-system uses symlinks by default to efficiently store duplicated files but your machine does not support them in C:\\Users\\Ryan Levey\\.cache\\huggingface\\hub\\models--bert-base-cased. Caching files will still work but in a degraded version that might require more space on your disk. This warning can be disabled by setting the `HF_HUB_DISABLE_SYMLINKS_WARNING` environment variable. For more details, see https://huggingface.co/docs/huggingface_hub/how-to-cache#limitations.\n",
      "To support symlinks on Windows, you either need to activate Developer Mode or to run Python as an administrator. In order to activate developer mode, see this article: https://docs.microsoft.com/en-us/windows/apps/get-started/enable-your-device-for-development\n",
      "  warnings.warn(message)\n"
     ]
    },
    {
     "data": {
      "text/plain": [
       "config.json:   0%|          | 0.00/570 [00:00<?, ?B/s]"
      ],
      "application/vnd.jupyter.widget-view+json": {
       "version_major": 2,
       "version_minor": 0,
       "model_id": "bfae88c750654f9ebaebc3d221ce1f40"
      }
     },
     "metadata": {},
     "output_type": "display_data"
    },
    {
     "data": {
      "text/plain": [
       "vocab.txt:   0%|          | 0.00/213k [00:00<?, ?B/s]"
      ],
      "application/vnd.jupyter.widget-view+json": {
       "version_major": 2,
       "version_minor": 0,
       "model_id": "0dce8bbbae9e4be4b51d23e732a1bcf4"
      }
     },
     "metadata": {},
     "output_type": "display_data"
    },
    {
     "data": {
      "text/plain": [
       "tokenizer.json:   0%|          | 0.00/436k [00:00<?, ?B/s]"
      ],
      "application/vnd.jupyter.widget-view+json": {
       "version_major": 2,
       "version_minor": 0,
       "model_id": "8f90cfb86a7b4d338704702f1410bdb4"
      }
     },
     "metadata": {},
     "output_type": "display_data"
    }
   ],
   "execution_count": 3
  },
  {
   "metadata": {
    "ExecuteTime": {
     "end_time": "2024-11-04T19:54:06.450979Z",
     "start_time": "2024-11-04T19:54:06.440474Z"
    }
   },
   "cell_type": "code",
   "source": [
    "# Tokenized Text Example\n",
    "\n",
    "text = \"Hello how are you\""
   ],
   "id": "e6b8a5405c2ee31b",
   "outputs": [],
   "execution_count": 7
  },
  {
   "metadata": {
    "ExecuteTime": {
     "end_time": "2024-11-04T19:53:43.067757Z",
     "start_time": "2024-11-04T19:53:43.063260Z"
    }
   },
   "cell_type": "code",
   "source": [
    "# Passing thru the tokenizer\n",
    "\n",
    "tokenized_text = tokenizer(text)[\"input_ids\"]"
   ],
   "id": "edd786826d4c6275",
   "outputs": [],
   "execution_count": 5
  },
  {
   "metadata": {
    "ExecuteTime": {
     "end_time": "2024-11-04T19:53:43.978034Z",
     "start_time": "2024-11-04T19:53:43.962526Z"
    }
   },
   "cell_type": "code",
   "source": "tokenized_text",
   "id": "b552ce66ae1c6659",
   "outputs": [
    {
     "data": {
      "text/plain": [
       "[101, 8667, 1293, 1132, 1128, 102]"
      ]
     },
     "execution_count": 6,
     "metadata": {},
     "output_type": "execute_result"
    }
   ],
   "execution_count": 6
  },
  {
   "metadata": {
    "ExecuteTime": {
     "end_time": "2024-11-04T19:56:59.127136Z",
     "start_time": "2024-11-04T19:56:59.120136Z"
    }
   },
   "cell_type": "code",
   "source": [
    "untokenized_text = tokenizer.decode(tokenized_text)\n",
    "\n",
    "untokenized_text\n"
   ],
   "id": "6f38259534bc80d7",
   "outputs": [
    {
     "data": {
      "text/plain": [
       "'[CLS] Hello how are you [SEP]'"
      ]
     },
     "execution_count": 9,
     "metadata": {},
     "output_type": "execute_result"
    }
   ],
   "execution_count": 9
  },
  {
   "metadata": {},
   "cell_type": "markdown",
   "source": "## Waffle House Tokenization Example",
   "id": "b5977c86fe106d"
  },
  {
   "metadata": {
    "ExecuteTime": {
     "end_time": "2024-11-04T20:12:21.959570Z",
     "start_time": "2024-11-04T20:12:21.943561Z"
    }
   },
   "cell_type": "code",
   "source": [
    "# Waffle House Token Example\n",
    "\n",
    "waffle_tokens = {\n",
    "    \"jelly_bottom\": \"scrambled_eggs\",\n",
    "    \"hashbrowns_top\": \"hashbrowns_selected\",\n",
    "    \"tomato_top\": \"tomato_selected\",\n",
    "    \"napkin_top\": \"oatmeal_selected\"\n",
    "}"
   ],
   "id": "cf5778efc0a47b9c",
   "outputs": [],
   "execution_count": 11
  },
  {
   "metadata": {
    "ExecuteTime": {
     "end_time": "2024-11-04T20:12:22.625571Z",
     "start_time": "2024-11-04T20:12:22.612050Z"
    }
   },
   "cell_type": "code",
   "source": [
    "# Waffle House Tokenize Authentication Phrase\n",
    "\n",
    "tokenized_markers = {k: tokenizer(v)[\"input_ids\"] for k, v in waffle_tokens.items()}\n",
    "pprint(tokenized_markers)\n"
   ],
   "id": "b31a57b7bb4fb2c2",
   "outputs": [],
   "execution_count": 12
  },
  {
   "metadata": {
    "ExecuteTime": {
     "end_time": "2024-11-04T20:13:52.344309Z",
     "start_time": "2024-11-04T20:13:52.339809Z"
    }
   },
   "cell_type": "code",
   "source": [
    "def authenticate_user(tokens):\n",
    "    for token, expected_token in tokenized_markers.items():\n",
    "        if tokens.get(token) != expected_token:\n",
    "            return False\n",
    "    return True\n"
   ],
   "id": "6e9afeb161411d32",
   "outputs": [],
   "execution_count": 13
  },
  {
   "metadata": {
    "ExecuteTime": {
     "end_time": "2024-11-04T20:13:53.733518Z",
     "start_time": "2024-11-04T20:13:53.717014Z"
    }
   },
   "cell_type": "code",
   "source": [
    "# Sample interaction\n",
    "\n",
    "user_tokens = {\n",
    "    \"jelly_bottom\": tokenizer(\"scrambled_eggs\")[\"input_ids\"],\n",
    "    \"hashbrowns_top\": tokenizer(\"hashbrowns_selected\")[\"input_ids\"]\n",
    "}\n",
    "auth_status = authenticate_user(user_tokens)\n",
    "print(\"Access Granted\" if auth_status else \"Access Denied\")\n"
   ],
   "id": "3a61e5f920c3aeeb",
   "outputs": [],
   "execution_count": 14
  },
  {
   "metadata": {
    "ExecuteTime": {
     "end_time": "2024-11-04T20:17:41.090734Z",
     "start_time": "2024-11-04T20:17:41.082733Z"
    }
   },
   "cell_type": "code",
   "source": [
    "from IPython.display import display\n",
    "\n",
    "for token, phrase in waffle_tokens.items():\n",
    "    tokenized = tokenizer(phrase)[\"input_ids\"]\n",
    "    display(f\"{token}: {tokenized} -> {tokenizer.decode(tokenized)}\")\n",
    "\n"
   ],
   "id": "296597d7270849f5",
   "outputs": [
    {
     "data": {
      "text/plain": [
       "'jelly_bottom: [101, 13988, 168, 6471, 102] -> [CLS] scrambled _ eggs [SEP]'"
      ]
     },
     "metadata": {},
     "output_type": "display_data"
    },
    {
     "data": {
      "text/plain": [
       "'hashbrowns_top: [101, 1144, 1324, 12725, 6540, 1116, 168, 2700, 102] -> [CLS] hashbrowns _ selected [SEP]'"
      ]
     },
     "metadata": {},
     "output_type": "display_data"
    },
    {
     "data": {
      "text/plain": [
       "'tomato_top: [101, 26422, 168, 2700, 102] -> [CLS] tomato _ selected [SEP]'"
      ]
     },
     "metadata": {},
     "output_type": "display_data"
    },
    {
     "data": {
      "text/plain": [
       "'napkin_top: [101, 184, 2980, 3263, 1348, 168, 2700, 102] -> [CLS] oatmeal _ selected [SEP]'"
      ]
     },
     "metadata": {},
     "output_type": "display_data"
    }
   ],
   "execution_count": 16
  },
  {
   "metadata": {},
   "cell_type": "code",
   "outputs": [],
   "execution_count": null,
   "source": "",
   "id": "d7f935c2aae14afd"
  }
 ],
 "metadata": {
  "kernelspec": {
   "display_name": "Python 3",
   "language": "python",
   "name": "python3"
  },
  "language_info": {
   "codemirror_mode": {
    "name": "ipython",
    "version": 2
   },
   "file_extension": ".py",
   "mimetype": "text/x-python",
   "name": "python",
   "nbconvert_exporter": "python",
   "pygments_lexer": "ipython2",
   "version": "2.7.6"
  }
 },
 "nbformat": 4,
 "nbformat_minor": 5
}
