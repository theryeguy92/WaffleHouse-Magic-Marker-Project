{
 "cells": [
  {
   "metadata": {},
   "cell_type": "markdown",
   "source": "# Waffle House Formal Authentication Tokenizer Concept\n",
   "id": "398b6d58d05a7441"
  },
  {
   "metadata": {},
   "cell_type": "code",
   "outputs": [
    {
     "name": "stderr",
     "output_type": "stream",
     "text": [
      "None of PyTorch, TensorFlow >= 2.0, or Flax have been found. Models won't be available and only tokenizers, configuration and file/data utilities can be used.\n"
     ]
    }
   ],
   "execution_count": 1,
   "source": [
    "# Import libraries\n",
    "\n",
    "import pandas as pd\n",
    "from huggingface_hub import notebook_login\n",
    "from pprint import pprint\n",
    "from transformers import AutoTokenizer"
   ],
   "id": "initial_id"
  },
  {
   "metadata": {
    "ExecuteTime": {
     "end_time": "2024-11-04T19:45:32.965012Z",
     "start_time": "2024-11-04T19:45:32.945014Z"
    }
   },
   "cell_type": "code",
   "source": [
    "# Login to hugging face\n",
    "notebook_login()"
   ],
   "id": "f7e7cd544b12cd4c",
   "outputs": [
    {
     "data": {
      "text/plain": [
       "VBox(children=(HTML(value='<center> <img\\nsrc=https://huggingface.co/front/assets/huggingface_logo-noborder.sv…"
      ],
      "application/vnd.jupyter.widget-view+json": {
       "version_major": 2,
       "version_minor": 0,
       "model_id": "1c8cb752d59745838c1e5bc24b2f8709"
      }
     },
     "metadata": {},
     "output_type": "display_data"
    }
   ],
   "execution_count": 2
  },
  {
   "metadata": {
    "ExecuteTime": {
     "end_time": "2024-11-04T19:51:53.254948Z",
     "start_time": "2024-11-04T19:51:52.528082Z"
    }
   },
   "cell_type": "code",
   "source": [
    "# Import tokenizer\n",
    "\n",
    "tokenizer = AutoTokenizer.from_pretrained('bert-base-cased')"
   ],
   "id": "e7d979fc0057ba31",
   "outputs": [
    {
     "data": {
      "text/plain": [
       "tokenizer_config.json:   0%|          | 0.00/49.0 [00:00<?, ?B/s]"
      ],
      "application/vnd.jupyter.widget-view+json": {
       "version_major": 2,
       "version_minor": 0,
       "model_id": "0d4eeed0312a405cae862131ed328fcd"
      }
     },
     "metadata": {},
     "output_type": "display_data"
    },
    {
     "name": "stderr",
     "output_type": "stream",
     "text": [
      "C:\\Users\\Ryan Levey\\OneDrive\\Bureaublad\\vandy_cs\\CS 6315\\final_project\\waffle_house_project\\venv\\lib\\site-packages\\huggingface_hub\\file_download.py:139: UserWarning: `huggingface_hub` cache-system uses symlinks by default to efficiently store duplicated files but your machine does not support them in C:\\Users\\Ryan Levey\\.cache\\huggingface\\hub\\models--bert-base-cased. Caching files will still work but in a degraded version that might require more space on your disk. This warning can be disabled by setting the `HF_HUB_DISABLE_SYMLINKS_WARNING` environment variable. For more details, see https://huggingface.co/docs/huggingface_hub/how-to-cache#limitations.\n",
      "To support symlinks on Windows, you either need to activate Developer Mode or to run Python as an administrator. In order to activate developer mode, see this article: https://docs.microsoft.com/en-us/windows/apps/get-started/enable-your-device-for-development\n",
      "  warnings.warn(message)\n"
     ]
    },
    {
     "data": {
      "text/plain": [
       "config.json:   0%|          | 0.00/570 [00:00<?, ?B/s]"
      ],
      "application/vnd.jupyter.widget-view+json": {
       "version_major": 2,
       "version_minor": 0,
       "model_id": "bfae88c750654f9ebaebc3d221ce1f40"
      }
     },
     "metadata": {},
     "output_type": "display_data"
    },
    {
     "data": {
      "text/plain": [
       "vocab.txt:   0%|          | 0.00/213k [00:00<?, ?B/s]"
      ],
      "application/vnd.jupyter.widget-view+json": {
       "version_major": 2,
       "version_minor": 0,
       "model_id": "0dce8bbbae9e4be4b51d23e732a1bcf4"
      }
     },
     "metadata": {},
     "output_type": "display_data"
    },
    {
     "data": {
      "text/plain": [
       "tokenizer.json:   0%|          | 0.00/436k [00:00<?, ?B/s]"
      ],
      "application/vnd.jupyter.widget-view+json": {
       "version_major": 2,
       "version_minor": 0,
       "model_id": "8f90cfb86a7b4d338704702f1410bdb4"
      }
     },
     "metadata": {},
     "output_type": "display_data"
    }
   ],
   "execution_count": 3
  },
  {
   "metadata": {},
   "cell_type": "code",
   "outputs": [],
   "execution_count": null,
   "source": "",
   "id": "5fc629b9d4f982fa"
  },
  {
   "metadata": {},
   "cell_type": "markdown",
   "source": "# Waffle House Formal Authentication",
   "id": "9c7f03281e61c0b8"
  },
  {
   "metadata": {
    "ExecuteTime": {
     "end_time": "2024-11-04T21:30:47.913949Z",
     "start_time": "2024-11-04T21:30:47.898457Z"
    }
   },
   "cell_type": "code",
   "source": [
    "# Define Waffle House markers and expected results (expanded with all relevant tokens)\n",
    "waffle_tokens = {\n",
    "    \"jelly_bottom\": \"scrambled_eggs\",\n",
    "    \"hashbrowns_top\": \"hashbrowns_selected\",\n",
    "    \"tomato_top\": \"tomato_selected\",\n",
    "    \"napkin_top\": \"oatmeal_selected\",\n",
    "    \"jelly_flipped\": \"wheat_toast\",\n",
    "    \"apple_jelly_bottom\": \"raisin_toast\",\n",
    "    \"extra_jelly\": \"extra_toast\",\n",
    "    \"butter_underneath\": \"dry_toast\",\n",
    "    \"mustard_under_jelly\": \"three_scrambled_eggs\",\n",
    "    \"two_jelly_stack\": \"four_scrambled_eggs\"\n",
    "}\n",
    "\n",
    "# Tokenize each marker phrase\n",
    "tokenized_markers = {k: tokenizer(v)[\"input_ids\"] for k, v in waffle_tokens.items()}\n",
    "\n",
    "\n",
    "from IPython.display import display\n",
    "display(tokenized_markers)\n"
   ],
   "id": "5db22ca776fb4ba9",
   "outputs": [
    {
     "data": {
      "text/plain": [
       "{'jelly_bottom': [101, 13988, 168, 6471, 102],\n",
       " 'hashbrowns_top': [101, 1144, 1324, 12725, 6540, 1116, 168, 2700, 102],\n",
       " 'tomato_top': [101, 26422, 168, 2700, 102],\n",
       " 'napkin_top': [101, 184, 2980, 3263, 1348, 168, 2700, 102],\n",
       " 'jelly_flipped': [101, 11773, 168, 17458, 102],\n",
       " 'apple_jelly_bottom': [101, 187, 15837, 1394, 168, 17458, 102],\n",
       " 'extra_jelly': [101, 3908, 168, 17458, 102],\n",
       " 'butter_underneath': [101, 3712, 168, 17458, 102],\n",
       " 'mustard_under_jelly': [101, 1210, 168, 13988, 168, 6471, 102],\n",
       " 'two_jelly_stack': [101, 1300, 168, 13988, 168, 6471, 102]}"
      ]
     },
     "metadata": {},
     "output_type": "display_data"
    }
   ],
   "execution_count": 97
  },
  {
   "metadata": {
    "ExecuteTime": {
     "end_time": "2024-11-04T21:30:49.721289Z",
     "start_time": "2024-11-04T21:30:49.704815Z"
    }
   },
   "cell_type": "code",
   "source": [
    "# Function to authenticate tokens\n",
    "def authenticate_user(tokens):\n",
    "    for token, expected_token in tokenized_markers.items():\n",
    "        if tokens.get(token) != expected_token:\n",
    "            return False\n",
    "    return True"
   ],
   "id": "e7b3988a1924c83d",
   "outputs": [],
   "execution_count": 98
  },
  {
   "metadata": {
    "ExecuteTime": {
     "end_time": "2024-11-04T21:30:52.795118Z",
     "start_time": "2024-11-04T21:30:52.787613Z"
    }
   },
   "cell_type": "code",
   "source": [
    "# Sample user tokens to authenticate\n",
    "user_tokens = {\n",
    "    \"jelly_bottom\": tokenizer(\"scrambled_eggs\")[\"input_ids\"],\n",
    "    \"hashbrowns_top\": tokenizer(\"hashbrowns_selected\")[\"input_ids\"]\n",
    "}\n",
    "auth_status = authenticate_user(user_tokens)\n",
    "print(\"Access Granted\" if auth_status else \"Access Denied\")\n"
   ],
   "id": "32e2b0d1319c5ef3",
   "outputs": [],
   "execution_count": 99
  },
  {
   "metadata": {},
   "cell_type": "markdown",
   "source": "### Verification Functions Based on SMV Rules",
   "id": "42bdf729967b5e4f"
  },
  {
   "metadata": {
    "ExecuteTime": {
     "end_time": "2024-11-04T21:30:55.116196Z",
     "start_time": "2024-11-04T21:30:55.096652Z"
    }
   },
   "cell_type": "code",
   "source": [
    "# Rule validation functions\n",
    "def check_scrambled_eggs_rule(tokens):\n",
    "    return tokens.get(\"jelly_bottom\") == tokenized_markers[\"jelly_bottom\"]\n",
    "\n",
    "def check_grits_rule(tokens):\n",
    "    return (tokens.get(\"hashbrowns_top\") == tokenized_markers[\"hashbrowns_top\"] and \"grits\" not in tokens)\n",
    "\n",
    "def check_oatmeal_rule(tokens):\n",
    "    return tokens.get(\"napkin_top\") == tokenized_markers[\"napkin_top\"]\n",
    "\n",
    "def check_conflict_rule(tokens):\n",
    "    return not (tokens.get(\"hashbrowns_top\") and tokens.get(\"tomato_top\"))\n"
   ],
   "id": "9cc95649df39cb57",
   "outputs": [],
   "execution_count": 100
  },
  {
   "metadata": {},
   "cell_type": "markdown",
   "source": "### Order Validation Function",
   "id": "52eaed4f0166a896"
  },
  {
   "metadata": {
    "ExecuteTime": {
     "end_time": "2024-11-04T21:30:56.846775Z",
     "start_time": "2024-11-04T21:30:56.841776Z"
    }
   },
   "cell_type": "code",
   "source": [
    "def validate_order(tokens):\n",
    "    \n",
    "    rules = [\n",
    "        check_scrambled_eggs_rule(tokens),\n",
    "        check_grits_rule(tokens),\n",
    "        check_oatmeal_rule(tokens),\n",
    "        check_conflict_rule(tokens)\n",
    "    ]\n",
    "    return all(rules)\n",
    "\n"
   ],
   "id": "2db111c3d4c560ad",
   "outputs": [],
   "execution_count": 101
  },
  {
   "metadata": {
    "ExecuteTime": {
     "end_time": "2024-11-04T21:30:57.697427Z",
     "start_time": "2024-11-04T21:30:57.688423Z"
    }
   },
   "cell_type": "code",
   "source": [
    "# Validate sample order\n",
    "if validate_order(user_tokens):\n",
    "    print(\"Order Valid - Configuration matches SMV rules\")\n",
    "else:\n",
    "    print(\"Order Invalid - Conflict or Rule Violation Detected\")"
   ],
   "id": "e4579fd92160c929",
   "outputs": [],
   "execution_count": 102
  },
  {
   "metadata": {},
   "cell_type": "markdown",
   "source": "### Export to SMV Format for nuXmv Verification",
   "id": "520ec82b402eaa3e"
  },
  {
   "metadata": {
    "ExecuteTime": {
     "end_time": "2024-11-04T21:30:59.458127Z",
     "start_time": "2024-11-04T21:30:59.439115Z"
    }
   },
   "cell_type": "code",
   "source": [
    "# Export function to create SMV file\n",
    "def export_to_smv(tokens, filename=\"generated_wafflehouse.smv\"):\n",
    "    with open(filename, 'w') as smv_file:\n",
    "        smv_file.write(\"MODULE main\\nVAR\\n\")\n",
    "\n",
    "        # List of all relevant variables\n",
    "        all_vars = list(waffle_tokens.keys()) + [\"scrambled_eggs\", \"grits\", \"oatmeal\", \"brown_sugar_top\"]\n",
    "        for var in all_vars:\n",
    "            smv_file.write(f\"    {var} : boolean;\\n\")\n",
    "\n",
    "        # INIT section: all variables false\n",
    "        smv_file.write(\"\\nINIT\\n    \")\n",
    "        init_conditions = \" & \".join([f\"!{var}\" for var in all_vars])\n",
    "        smv_file.write(init_conditions + \";\\n\\n\")\n",
    "\n",
    "        # TRANS section based on rules\n",
    "        smv_file.write(\"TRANS\\n\")\n",
    "        trans_conditions = [\n",
    "            \"(jelly_bottom -> scrambled_eggs)\",\n",
    "            \"(hashbrowns_top -> (scrambled_eggs & !grits))\",\n",
    "            \"(oatmeal -> (napkin_top & brown_sugar_top))\"\n",
    "        ]\n",
    "        smv_file.write(\"    \" + \" &\\n    \".join(trans_conditions) + \";\\n\\n\")\n",
    "\n",
    "        # LTL specifications\n",
    "        smv_file.write(\"-- Formal Specifications\\n\")\n",
    "        smv_file.write(\"LTLSPEC G (jelly_bottom -> scrambled_eggs);\\n\")\n",
    "        smv_file.write(\"LTLSPEC G (oatmeal -> F(napkin_top & brown_sugar_top));\\n\")\n",
    "        smv_file.write(\"LTLSPEC !(hashbrowns_top & tomato_top);\\n\")\n",
    "\n",
    "    print(f\"SMV model exported to {filename}\")"
   ],
   "id": "f60deb8b8e38b9b",
   "outputs": [],
   "execution_count": 103
  },
  {
   "metadata": {
    "ExecuteTime": {
     "end_time": "2024-11-04T21:31:17.565687Z",
     "start_time": "2024-11-04T21:31:17.549941Z"
    }
   },
   "cell_type": "code",
   "source": [
    "# Export the tokens for formal verification\n",
    "export_to_smv(user_tokens)"
   ],
   "id": "cf29c849421e26c6",
   "outputs": [],
   "execution_count": 104
  },
  {
   "metadata": {},
   "cell_type": "code",
   "outputs": [],
   "execution_count": null,
   "source": "",
   "id": "411a8edda79f14db"
  }
 ],
 "metadata": {
  "kernelspec": {
   "display_name": "Python 3",
   "language": "python",
   "name": "python3"
  },
  "language_info": {
   "codemirror_mode": {
    "name": "ipython",
    "version": 2
   },
   "file_extension": ".py",
   "mimetype": "text/x-python",
   "name": "python",
   "nbconvert_exporter": "python",
   "pygments_lexer": "ipython2",
   "version": "2.7.6"
  }
 },
 "nbformat": 4,
 "nbformat_minor": 5
}
