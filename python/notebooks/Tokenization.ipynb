{
 "cells": [
  {
   "metadata": {},
   "cell_type": "markdown",
   "source": "# Waffle House Formal Authentication Tokenizer Concept\n",
   "id": "398b6d58d05a7441"
  },
  {
   "metadata": {},
   "cell_type": "code",
   "outputs": [
    {
     "name": "stderr",
     "output_type": "stream",
     "text": [
      "None of PyTorch, TensorFlow >= 2.0, or Flax have been found. Models won't be available and only tokenizers, configuration and file/data utilities can be used.\n"
     ]
    }
   ],
   "execution_count": 1,
   "source": [
    "# Import libraries\n",
    "\n",
    "import pandas as pd\n",
    "from huggingface_hub import notebook_login\n",
    "from pprint import pprint\n",
    "from transformers import AutoTokenizer"
   ],
   "id": "initial_id"
  },
  {
   "metadata": {
    "ExecuteTime": {
     "end_time": "2024-11-04T19:45:32.965012Z",
     "start_time": "2024-11-04T19:45:32.945014Z"
    }
   },
   "cell_type": "code",
   "source": [
    "# Login to hugging face\n",
    "notebook_login()"
   ],
   "id": "f7e7cd544b12cd4c",
   "outputs": [
    {
     "data": {
      "text/plain": [
       "VBox(children=(HTML(value='<center> <img\\nsrc=https://huggingface.co/front/assets/huggingface_logo-noborder.sv…"
      ],
      "application/vnd.jupyter.widget-view+json": {
       "version_major": 2,
       "version_minor": 0,
       "model_id": "1c8cb752d59745838c1e5bc24b2f8709"
      }
     },
     "metadata": {},
     "output_type": "display_data"
    }
   ],
   "execution_count": 2
  },
  {
   "metadata": {
    "ExecuteTime": {
     "end_time": "2024-11-04T19:51:53.254948Z",
     "start_time": "2024-11-04T19:51:52.528082Z"
    }
   },
   "cell_type": "code",
   "source": [
    "# Import tokenizer\n",
    "\n",
    "tokenizer = AutoTokenizer.from_pretrained('bert-base-cased')"
   ],
   "id": "e7d979fc0057ba31",
   "outputs": [
    {
     "data": {
      "text/plain": [
       "tokenizer_config.json:   0%|          | 0.00/49.0 [00:00<?, ?B/s]"
      ],
      "application/vnd.jupyter.widget-view+json": {
       "version_major": 2,
       "version_minor": 0,
       "model_id": "0d4eeed0312a405cae862131ed328fcd"
      }
     },
     "metadata": {},
     "output_type": "display_data"
    },
    {
     "name": "stderr",
     "output_type": "stream",
     "text": [
      "C:\\Users\\Ryan Levey\\OneDrive\\Bureaublad\\vandy_cs\\CS 6315\\final_project\\waffle_house_project\\venv\\lib\\site-packages\\huggingface_hub\\file_download.py:139: UserWarning: `huggingface_hub` cache-system uses symlinks by default to efficiently store duplicated files but your machine does not support them in C:\\Users\\Ryan Levey\\.cache\\huggingface\\hub\\models--bert-base-cased. Caching files will still work but in a degraded version that might require more space on your disk. This warning can be disabled by setting the `HF_HUB_DISABLE_SYMLINKS_WARNING` environment variable. For more details, see https://huggingface.co/docs/huggingface_hub/how-to-cache#limitations.\n",
      "To support symlinks on Windows, you either need to activate Developer Mode or to run Python as an administrator. In order to activate developer mode, see this article: https://docs.microsoft.com/en-us/windows/apps/get-started/enable-your-device-for-development\n",
      "  warnings.warn(message)\n"
     ]
    },
    {
     "data": {
      "text/plain": [
       "config.json:   0%|          | 0.00/570 [00:00<?, ?B/s]"
      ],
      "application/vnd.jupyter.widget-view+json": {
       "version_major": 2,
       "version_minor": 0,
       "model_id": "bfae88c750654f9ebaebc3d221ce1f40"
      }
     },
     "metadata": {},
     "output_type": "display_data"
    },
    {
     "data": {
      "text/plain": [
       "vocab.txt:   0%|          | 0.00/213k [00:00<?, ?B/s]"
      ],
      "application/vnd.jupyter.widget-view+json": {
       "version_major": 2,
       "version_minor": 0,
       "model_id": "0dce8bbbae9e4be4b51d23e732a1bcf4"
      }
     },
     "metadata": {},
     "output_type": "display_data"
    },
    {
     "data": {
      "text/plain": [
       "tokenizer.json:   0%|          | 0.00/436k [00:00<?, ?B/s]"
      ],
      "application/vnd.jupyter.widget-view+json": {
       "version_major": 2,
       "version_minor": 0,
       "model_id": "8f90cfb86a7b4d338704702f1410bdb4"
      }
     },
     "metadata": {},
     "output_type": "display_data"
    }
   ],
   "execution_count": 3
  },
  {
   "metadata": {
    "ExecuteTime": {
     "end_time": "2024-11-04T19:54:06.450979Z",
     "start_time": "2024-11-04T19:54:06.440474Z"
    }
   },
   "cell_type": "code",
   "source": [
    "# Tokenized Text Example\n",
    "\n",
    "text = \"Hello how are you\""
   ],
   "id": "e6b8a5405c2ee31b",
   "outputs": [],
   "execution_count": 7
  },
  {
   "metadata": {
    "ExecuteTime": {
     "end_time": "2024-11-04T19:53:43.067757Z",
     "start_time": "2024-11-04T19:53:43.063260Z"
    }
   },
   "cell_type": "code",
   "source": [
    "# Passing thru the tokenizer\n",
    "\n",
    "tokenized_text = tokenizer(text)[\"input_ids\"]"
   ],
   "id": "edd786826d4c6275",
   "outputs": [],
   "execution_count": 5
  },
  {
   "metadata": {
    "ExecuteTime": {
     "end_time": "2024-11-04T19:53:43.978034Z",
     "start_time": "2024-11-04T19:53:43.962526Z"
    }
   },
   "cell_type": "code",
   "source": [
    "# Print tokens\n",
    "\n",
    "tokenized_text"
   ],
   "id": "b552ce66ae1c6659",
   "outputs": [
    {
     "data": {
      "text/plain": [
       "[101, 8667, 1293, 1132, 1128, 102]"
      ]
     },
     "execution_count": 6,
     "metadata": {},
     "output_type": "execute_result"
    }
   ],
   "execution_count": 6
  },
  {
   "metadata": {
    "ExecuteTime": {
     "end_time": "2024-11-04T19:56:59.127136Z",
     "start_time": "2024-11-04T19:56:59.120136Z"
    }
   },
   "cell_type": "code",
   "source": [
    "# Illustrating tokenized text\n",
    "\n",
    "untokenized_text = tokenizer.decode(tokenized_text)\n",
    "\n",
    "untokenized_text\n"
   ],
   "id": "6f38259534bc80d7",
   "outputs": [
    {
     "data": {
      "text/plain": [
       "'[CLS] Hello how are you [SEP]'"
      ]
     },
     "execution_count": 9,
     "metadata": {},
     "output_type": "execute_result"
    }
   ],
   "execution_count": 9
  },
  {
   "metadata": {},
   "cell_type": "markdown",
   "source": "## Waffle House Tokenization Example",
   "id": "b5977c86fe106d"
  },
  {
   "metadata": {
    "ExecuteTime": {
     "end_time": "2024-11-04T20:12:21.959570Z",
     "start_time": "2024-11-04T20:12:21.943561Z"
    }
   },
   "cell_type": "code",
   "source": [
    "# Waffle House Token Example\n",
    "\n",
    "waffle_tokens = {\n",
    "    \"jelly_bottom\": \"scrambled_eggs\",\n",
    "    \"hashbrowns_top\": \"hashbrowns_selected\",\n",
    "    \"tomato_top\": \"tomato_selected\",\n",
    "    \"napkin_top\": \"oatmeal_selected\"\n",
    "}"
   ],
   "id": "cf5778efc0a47b9c",
   "outputs": [],
   "execution_count": 11
  },
  {
   "metadata": {
    "ExecuteTime": {
     "end_time": "2024-11-04T20:12:22.625571Z",
     "start_time": "2024-11-04T20:12:22.612050Z"
    }
   },
   "cell_type": "code",
   "source": [
    "# Waffle House Tokenize Authentication Phrase\n",
    "\n",
    "tokenized_markers = {k: tokenizer(v)[\"input_ids\"] for k, v in waffle_tokens.items()}\n",
    "pprint(tokenized_markers)\n"
   ],
   "id": "b31a57b7bb4fb2c2",
   "outputs": [],
   "execution_count": 12
  },
  {
   "metadata": {
    "ExecuteTime": {
     "end_time": "2024-11-04T20:13:52.344309Z",
     "start_time": "2024-11-04T20:13:52.339809Z"
    }
   },
   "cell_type": "code",
   "source": [
    "def authenticate_user(tokens):\n",
    "    for token, expected_token in tokenized_markers.items():\n",
    "        if tokens.get(token) != expected_token:\n",
    "            return False\n",
    "    return True\n"
   ],
   "id": "6e9afeb161411d32",
   "outputs": [],
   "execution_count": 13
  },
  {
   "metadata": {
    "ExecuteTime": {
     "end_time": "2024-11-04T20:13:53.733518Z",
     "start_time": "2024-11-04T20:13:53.717014Z"
    }
   },
   "cell_type": "code",
   "source": [
    "# Sample interaction\n",
    "\n",
    "user_tokens = {\n",
    "    \"jelly_bottom\": tokenizer(\"scrambled_eggs\")[\"input_ids\"],\n",
    "    \"hashbrowns_top\": tokenizer(\"hashbrowns_selected\")[\"input_ids\"]\n",
    "}\n",
    "auth_status = authenticate_user(user_tokens)\n",
    "print(\"Access Granted\" if auth_status else \"Access Denied\")\n"
   ],
   "id": "3a61e5f920c3aeeb",
   "outputs": [],
   "execution_count": 14
  },
  {
   "metadata": {
    "ExecuteTime": {
     "end_time": "2024-11-04T20:17:41.090734Z",
     "start_time": "2024-11-04T20:17:41.082733Z"
    }
   },
   "cell_type": "code",
   "source": [
    "from IPython.display import display\n",
    "\n",
    "for token, phrase in waffle_tokens.items():\n",
    "    tokenized = tokenizer(phrase)[\"input_ids\"]\n",
    "    display(f\"{token}: {tokenized} -> {tokenizer.decode(tokenized)}\")\n",
    "\n"
   ],
   "id": "296597d7270849f5",
   "outputs": [
    {
     "data": {
      "text/plain": [
       "'jelly_bottom: [101, 13988, 168, 6471, 102] -> [CLS] scrambled _ eggs [SEP]'"
      ]
     },
     "metadata": {},
     "output_type": "display_data"
    },
    {
     "data": {
      "text/plain": [
       "'hashbrowns_top: [101, 1144, 1324, 12725, 6540, 1116, 168, 2700, 102] -> [CLS] hashbrowns _ selected [SEP]'"
      ]
     },
     "metadata": {},
     "output_type": "display_data"
    },
    {
     "data": {
      "text/plain": [
       "'tomato_top: [101, 26422, 168, 2700, 102] -> [CLS] tomato _ selected [SEP]'"
      ]
     },
     "metadata": {},
     "output_type": "display_data"
    },
    {
     "data": {
      "text/plain": [
       "'napkin_top: [101, 184, 2980, 3263, 1348, 168, 2700, 102] -> [CLS] oatmeal _ selected [SEP]'"
      ]
     },
     "metadata": {},
     "output_type": "display_data"
    }
   ],
   "execution_count": 16
  },
  {
   "metadata": {},
   "cell_type": "code",
   "outputs": [],
   "execution_count": null,
   "source": "",
   "id": "d7f935c2aae14afd"
  },
  {
   "metadata": {},
   "cell_type": "code",
   "outputs": [],
   "execution_count": null,
   "source": "",
   "id": "5fc629b9d4f982fa"
  },
  {
   "metadata": {},
   "cell_type": "code",
   "outputs": [],
   "execution_count": null,
   "source": "",
   "id": "485d4e869c57840c"
  },
  {
   "metadata": {},
   "cell_type": "code",
   "outputs": [],
   "execution_count": null,
   "source": "",
   "id": "5dbdd3a360621caf"
  },
  {
   "metadata": {},
   "cell_type": "markdown",
   "source": "# Waffle House Formal Authentication",
   "id": "9c7f03281e61c0b8"
  },
  {
   "metadata": {
    "ExecuteTime": {
     "end_time": "2024-11-04T20:55:40.271597Z",
     "start_time": "2024-11-04T20:55:40.257098Z"
    }
   },
   "cell_type": "code",
   "source": [
    "# Define Waffle House markers and expected results\n",
    "waffle_tokens = {\n",
    "    \"jelly_bottom\": \"scrambled_eggs\",\n",
    "    \"hashbrowns_top\": \"hashbrowns_selected\",\n",
    "    \"tomato_top\": \"tomato_selected\",\n",
    "    \"napkin_top\": \"oatmeal_selected\"\n",
    "}\n",
    "\n",
    "\n",
    "\n",
    "# Tokenize each marker phrase\n",
    "tokenized_markers = {k: tokenizer(v)[\"input_ids\"] for k, v in waffle_tokens.items()}\n",
    "pprint(tokenized_markers)\n",
    "\n",
    "\n",
    "from IPython.display import display\n",
    "display(tokenized_markers)\n"
   ],
   "id": "5db22ca776fb4ba9",
   "outputs": [
    {
     "data": {
      "text/plain": [
       "{'jelly_bottom': [101, 13988, 168, 6471, 102],\n",
       " 'hashbrowns_top': [101, 1144, 1324, 12725, 6540, 1116, 168, 2700, 102],\n",
       " 'tomato_top': [101, 26422, 168, 2700, 102],\n",
       " 'napkin_top': [101, 184, 2980, 3263, 1348, 168, 2700, 102]}"
      ]
     },
     "metadata": {},
     "output_type": "display_data"
    }
   ],
   "execution_count": 36
  },
  {
   "metadata": {
    "ExecuteTime": {
     "end_time": "2024-11-04T20:55:40.658052Z",
     "start_time": "2024-11-04T20:55:40.646045Z"
    }
   },
   "cell_type": "code",
   "source": [
    "def authenticate_user(tokens):\n",
    "    \"\"\"\n",
    "    Authenticates the user based on the provided tokens.\n",
    "    Each token is checked against the expected tokenized markers.\n",
    "    \"\"\"\n",
    "    for token, expected_token in tokenized_markers.items():\n",
    "        if tokens.get(token) != expected_token:\n",
    "            return False\n",
    "    return True"
   ],
   "id": "e7b3988a1924c83d",
   "outputs": [],
   "execution_count": 37
  },
  {
   "metadata": {
    "ExecuteTime": {
     "end_time": "2024-11-04T20:55:41.137109Z",
     "start_time": "2024-11-04T20:55:41.130610Z"
    }
   },
   "cell_type": "code",
   "source": [
    "# Sample user tokens to authenticate\n",
    "user_tokens = {\n",
    "    \"jelly_bottom\": tokenizer(\"scrambled_eggs\")[\"input_ids\"],\n",
    "    \"hashbrowns_top\": tokenizer(\"hashbrowns_selected\")[\"input_ids\"]\n",
    "}\n",
    "\n",
    "auth_status = authenticate_user(user_tokens)\n",
    "print(\"Access Granted\" if auth_status else \"Access Denied\")\n",
    "\n",
    "user_tokens\n"
   ],
   "id": "32e2b0d1319c5ef3",
   "outputs": [
    {
     "data": {
      "text/plain": [
       "{'jelly_bottom': [101, 13988, 168, 6471, 102],\n",
       " 'hashbrowns_top': [101, 1144, 1324, 12725, 6540, 1116, 168, 2700, 102]}"
      ]
     },
     "execution_count": 38,
     "metadata": {},
     "output_type": "execute_result"
    }
   ],
   "execution_count": 38
  },
  {
   "metadata": {},
   "cell_type": "markdown",
   "source": "### Verification Functions Based on SMV Rules",
   "id": "42bdf729967b5e4f"
  },
  {
   "metadata": {
    "ExecuteTime": {
     "end_time": "2024-11-04T20:55:42.050356Z",
     "start_time": "2024-11-04T20:55:42.043354Z"
    }
   },
   "cell_type": "code",
   "source": [
    "def check_scrambled_eggs_rule(tokens):\n",
    "    \"\"\"If jelly packet is at the bottom, scrambled eggs must be true\"\"\"\n",
    "    return tokens.get(\"jelly_bottom\") == tokenized_markers[\"jelly_bottom\"]\n",
    "\n",
    "def check_grits_rule(tokens):\n",
    "    \"\"\"If hashbrowns are chosen, scrambled eggs must be true, and grits must be false\"\"\"\n",
    "    return (tokens.get(\"hashbrowns_top\") == tokenized_markers[\"hashbrowns_top\"] and\n",
    "            \"grits\" not in tokens)\n",
    "\n",
    "def check_oatmeal_rule(tokens):\n",
    "    \"\"\"If oatmeal is ordered, napkin and brown sugar must be on top\"\"\"\n",
    "    return tokens.get(\"napkin_top\") == tokenized_markers[\"napkin_top\"]\n",
    "\n",
    "def check_conflict_rule(tokens):\n",
    "    \"\"\"Prevent both hashbrowns and tomatoes from being on top at the same time\"\"\"\n",
    "    return not (tokens.get(\"hashbrowns_top\") and tokens.get(\"tomato_top\"))"
   ],
   "id": "9cc95649df39cb57",
   "outputs": [],
   "execution_count": 39
  },
  {
   "metadata": {},
   "cell_type": "markdown",
   "source": "### Order Validation Function",
   "id": "52eaed4f0166a896"
  },
  {
   "metadata": {
    "ExecuteTime": {
     "end_time": "2024-11-04T20:55:42.807913Z",
     "start_time": "2024-11-04T20:55:42.800411Z"
    }
   },
   "cell_type": "code",
   "source": [
    "def validate_order(tokens):\n",
    "    \"\"\"\n",
    "    Validates the order by checking compliance with all defined rules.\n",
    "    \"\"\"\n",
    "    rules = [\n",
    "        check_scrambled_eggs_rule(tokens),\n",
    "        check_grits_rule(tokens),\n",
    "        check_oatmeal_rule(tokens),\n",
    "        check_conflict_rule(tokens)\n",
    "    ]\n",
    "    return all(rules)"
   ],
   "id": "2db111c3d4c560ad",
   "outputs": [],
   "execution_count": 40
  },
  {
   "metadata": {
    "ExecuteTime": {
     "end_time": "2024-11-04T20:55:43.659635Z",
     "start_time": "2024-11-04T20:55:43.643627Z"
    }
   },
   "cell_type": "code",
   "source": [
    "# Validate sample order\n",
    "if validate_order(user_tokens):\n",
    "    print(\"Order Valid - Configuration matches SMV rules\")\n",
    "else:\n",
    "    print(\"Order Invalid - Conflict or Rule Violation Detected\")"
   ],
   "id": "e4579fd92160c929",
   "outputs": [],
   "execution_count": 41
  },
  {
   "metadata": {},
   "cell_type": "markdown",
   "source": "### Export to SMV Format for nuXmv Verification",
   "id": "520ec82b402eaa3e"
  },
  {
   "metadata": {
    "ExecuteTime": {
     "end_time": "2024-11-04T20:55:44.449084Z",
     "start_time": "2024-11-04T20:55:44.437578Z"
    }
   },
   "cell_type": "code",
   "source": [
    "def export_to_smv(tokens, filename=\"generated_wafflehouse.smv\"):\n",
    "    \"\"\"\n",
    "    Exports tokenized configurations to an SMV file format for verification.\n",
    "    \"\"\"\n",
    "    with open(filename, 'w') as smv_file:\n",
    "        # Write the module and variable definitions\n",
    "        smv_file.write(\"MODULE main\\nVAR\\n\")\n",
    "\n",
    "        # Define all tokens and any dependent states (e.g., scrambled_eggs, grits) as boolean variables\n",
    "        all_vars = list(waffle_tokens.keys()) + [\"scrambled_eggs\", \"grits\", \"oatmeal\"]\n",
    "        for var in all_vars:\n",
    "            smv_file.write(f\"    {var} : boolean;\\n\")\n",
    "\n",
    "        # Write INIT section: initialize all variables as false\n",
    "        smv_file.write(\"\\nINIT\\n    \")\n",
    "        init_conditions = \" & \".join([f\"!{var}\" for var in all_vars])\n",
    "        smv_file.write(init_conditions + \";\\n\\n\")\n",
    "\n",
    "        # Write TRANS section based on validation rules\n",
    "        smv_file.write(\"TRANS\\n\")\n",
    "\n",
    "        # Include TRANS conditions based on which tokens are validated\n",
    "        if \"jelly_bottom\" in tokens:\n",
    "            smv_file.write(\"    (jelly_bottom -> scrambled_eggs) &\\n\")\n",
    "        if \"hashbrowns_top\" in tokens:\n",
    "            smv_file.write(\"    (hashbrowns_top -> (scrambled_eggs & !grits)) &\\n\")\n",
    "        if \"napkin_top\" in tokens:\n",
    "            smv_file.write(\"    (oatmeal -> (napkin_top & brown_sugar_top));\\n\")\n",
    "\n",
    "        # Write LTL specifications for formal verification\n",
    "        smv_file.write(\"\\n-- Formal Specifications\\n\")\n",
    "        smv_file.write(\"LTLSPEC G (jelly_bottom -> scrambled_eggs);\\n\")\n",
    "        smv_file.write(\"LTLSPEC G (oatmeal -> F(napkin_top & brown_sugar_top));\\n\")\n",
    "        smv_file.write(\"LTLSPEC !(hashbrowns_top & tomato_top);\\n\")\n",
    "\n",
    "    print(f\"SMV model exported to {filename}\")\n"
   ],
   "id": "f60deb8b8e38b9b",
   "outputs": [],
   "execution_count": 42
  },
  {
   "metadata": {
    "ExecuteTime": {
     "end_time": "2024-11-04T20:55:45.006736Z",
     "start_time": "2024-11-04T20:55:44.999729Z"
    }
   },
   "cell_type": "code",
   "source": [
    "# Export the tokens for formal verification\n",
    "export_to_smv(user_tokens)"
   ],
   "id": "cf29c849421e26c6",
   "outputs": [],
   "execution_count": 43
  },
  {
   "metadata": {},
   "cell_type": "code",
   "outputs": [],
   "execution_count": null,
   "source": "",
   "id": "411a8edda79f14db"
  }
 ],
 "metadata": {
  "kernelspec": {
   "display_name": "Python 3",
   "language": "python",
   "name": "python3"
  },
  "language_info": {
   "codemirror_mode": {
    "name": "ipython",
    "version": 2
   },
   "file_extension": ".py",
   "mimetype": "text/x-python",
   "name": "python",
   "nbconvert_exporter": "python",
   "pygments_lexer": "ipython2",
   "version": "2.7.6"
  }
 },
 "nbformat": 4,
 "nbformat_minor": 5
}
